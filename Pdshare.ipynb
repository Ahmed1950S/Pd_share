{
 "cells": [
  {
   "cell_type": "code",
   "execution_count": 1,
   "id": "f3acc72c",
   "metadata": {},
   "outputs": [],
   "source": [
    "import numpy as np\n",
    "import pandas as pd\n",
    "from statsmodels.tsa.api import VAR\n",
    "from statsmodels.tsa.vector_ar.vecm import VECM, select_order"
   ]
  },
  {
   "cell_type": "code",
   "execution_count": 2,
   "id": "63606dd1",
   "metadata": {},
   "outputs": [],
   "source": [
    "# Set the range of prices and the number of rows\n",
    "low = 1\n",
    "high = 100\n",
    "num_rows = 100\n",
    "\n",
    "# Generate random prices\n",
    "prices = np.random.uniform(low, high, size=(num_rows, 2))\n",
    "\n",
    "# Convert prices to log prices\n",
    "log_prices = np.log(prices)\n",
    "\n",
    "# Create the DataFrame\n",
    "df = pd.DataFrame(log_prices, columns=['Column1', 'Column2'])"
   ]
  },
  {
   "cell_type": "code",
   "execution_count": 3,
   "id": "832e8dad",
   "metadata": {},
   "outputs": [
    {
     "data": {
      "text/html": [
       "<div>\n",
       "<style scoped>\n",
       "    .dataframe tbody tr th:only-of-type {\n",
       "        vertical-align: middle;\n",
       "    }\n",
       "\n",
       "    .dataframe tbody tr th {\n",
       "        vertical-align: top;\n",
       "    }\n",
       "\n",
       "    .dataframe thead th {\n",
       "        text-align: right;\n",
       "    }\n",
       "</style>\n",
       "<table border=\"1\" class=\"dataframe\">\n",
       "  <thead>\n",
       "    <tr style=\"text-align: right;\">\n",
       "      <th></th>\n",
       "      <th>Column1</th>\n",
       "      <th>Column2</th>\n",
       "    </tr>\n",
       "  </thead>\n",
       "  <tbody>\n",
       "    <tr>\n",
       "      <th>0</th>\n",
       "      <td>3.966202</td>\n",
       "      <td>2.365655</td>\n",
       "    </tr>\n",
       "    <tr>\n",
       "      <th>1</th>\n",
       "      <td>4.470293</td>\n",
       "      <td>3.854192</td>\n",
       "    </tr>\n",
       "    <tr>\n",
       "      <th>2</th>\n",
       "      <td>4.557000</td>\n",
       "      <td>2.241115</td>\n",
       "    </tr>\n",
       "    <tr>\n",
       "      <th>3</th>\n",
       "      <td>3.443546</td>\n",
       "      <td>4.558134</td>\n",
       "    </tr>\n",
       "    <tr>\n",
       "      <th>4</th>\n",
       "      <td>2.660757</td>\n",
       "      <td>4.189898</td>\n",
       "    </tr>\n",
       "  </tbody>\n",
       "</table>\n",
       "</div>"
      ],
      "text/plain": [
       "    Column1   Column2\n",
       "0  3.966202  2.365655\n",
       "1  4.470293  3.854192\n",
       "2  4.557000  2.241115\n",
       "3  3.443546  4.558134\n",
       "4  2.660757  4.189898"
      ]
     },
     "execution_count": 3,
     "metadata": {},
     "output_type": "execute_result"
    }
   ],
   "source": [
    "df.head()"
   ]
  },
  {
   "cell_type": "code",
   "execution_count": 10,
   "id": "ad33b3c9",
   "metadata": {},
   "outputs": [],
   "source": [
    "\n",
    "def Bpdshare(x, override_lags=None, lag_max=None):\n",
    "    if not isinstance(x, pd.DataFrame) or x.shape[1] != 2:\n",
    "        raise ValueError(\"x must be a DataFrame with exactly two columns.\")\n",
    "\n",
    "    # Step 1: Determine the optimal number of lags\n",
    "    if override_lags is None:\n",
    "        model = VAR(x)\n",
    "        lag_order_results = model.select_order(maxlags=lag_max)\n",
    "        lags = lag_order_results.selected_orders['aic']\n",
    "    else:\n",
    "        lags = override_lags\n",
    "\n",
    "    # Step 2: Estimate VECM\n",
    "    vecm = VECM(x, k_ar_diff=lags, coint_rank=1, deterministic=\"co\")\n",
    "    vecm_fit = vecm.fit()\n",
    "\n",
    "    # Step 3: Calculate var-covar matrix of residuals\n",
    "    var_covar_matrix = np.cov(vecm_fit.resid.T)\n",
    "\n",
    "    # Step 4: Calculate component share weights\n",
    "    beta = vecm_fit.beta.T\n",
    "    component_share = np.abs(beta) / np.sum(np.abs(beta))\n",
    "\n",
    "    # Step 5: Calculate information shares\n",
    "    is_original_ordering = np.zeros(2)\n",
    "    is_reversed_ordering = np.zeros(2)\n",
    "    for i in range(2):\n",
    "        is_original_ordering[i] = var_covar_matrix[i, i] / np.sum(var_covar_matrix.diagonal())\n",
    "        is_reversed_ordering[i] = var_covar_matrix[1-i, 1-i] / np.sum(var_covar_matrix.diagonal())\n",
    "\n",
    "    return {\n",
    "        'is.original.ordering': is_original_ordering,\n",
    "        'is.reversed.ordering': is_reversed_ordering,\n",
    "        'component.share': component_share,\n",
    "        'var.covar.matrix': var_covar_matrix,\n",
    "        'lags.used': lags,\n",
    "    }"
   ]
  },
  {
   "cell_type": "code",
   "execution_count": 11,
   "id": "0548c437",
   "metadata": {},
   "outputs": [
    {
     "data": {
      "text/plain": [
       "{'is.original.ordering': array([0.59440119, 0.40559881]),\n",
       " 'is.reversed.ordering': array([0.40559881, 0.59440119]),\n",
       " 'component.share': array([[0.00227174, 0.99772826]]),\n",
       " 'var.covar.matrix': array([[1.13588688, 0.06627445],\n",
       "        [0.06627445, 0.77508991]]),\n",
       " 'lags.used': 0}"
      ]
     },
     "execution_count": 11,
     "metadata": {},
     "output_type": "execute_result"
    }
   ],
   "source": [
    "Bpdshare(df)"
   ]
  }
 ],
 "metadata": {
  "kernelspec": {
   "display_name": "Python 3 (ipykernel)",
   "language": "python",
   "name": "python3"
  },
  "language_info": {
   "codemirror_mode": {
    "name": "ipython",
    "version": 3
   },
   "file_extension": ".py",
   "mimetype": "text/x-python",
   "name": "python",
   "nbconvert_exporter": "python",
   "pygments_lexer": "ipython3",
   "version": "3.9.13"
  }
 },
 "nbformat": 4,
 "nbformat_minor": 5
}
